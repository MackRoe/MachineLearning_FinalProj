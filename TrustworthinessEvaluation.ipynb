{
 "cells": [
  {
   "cell_type": "code",
   "execution_count": 1,
   "metadata": {},
   "outputs": [
    {
     "data": {
      "text/html": [
       "<div>\n",
       "<style scoped>\n",
       "    .dataframe tbody tr th:only-of-type {\n",
       "        vertical-align: middle;\n",
       "    }\n",
       "\n",
       "    .dataframe tbody tr th {\n",
       "        vertical-align: top;\n",
       "    }\n",
       "\n",
       "    .dataframe thead th {\n",
       "        text-align: right;\n",
       "    }\n",
       "</style>\n",
       "<table border=\"1\" class=\"dataframe\">\n",
       "  <thead>\n",
       "    <tr style=\"text-align: right;\">\n",
       "      <th></th>\n",
       "      <th>CT_range_4 CU_range_1 LT_range_4 sport untrustworthy</th>\n",
       "    </tr>\n",
       "  </thead>\n",
       "  <tbody>\n",
       "    <tr>\n",
       "      <th>0</th>\n",
       "      <td>CT_range_4 CU_range_1 LT_range_4 sport untrust...</td>\n",
       "    </tr>\n",
       "    <tr>\n",
       "      <th>1</th>\n",
       "      <td>CT_range_1 CU_range_4 LT_range_4 sport trustwo...</td>\n",
       "    </tr>\n",
       "    <tr>\n",
       "      <th>2</th>\n",
       "      <td>CT_range_2 CU_range_1 LT_range_4 sport trustwo...</td>\n",
       "    </tr>\n",
       "    <tr>\n",
       "      <th>3</th>\n",
       "      <td>CT_range_3 CU_range_1 LT_range_4 sport trustwo...</td>\n",
       "    </tr>\n",
       "    <tr>\n",
       "      <th>4</th>\n",
       "      <td>CT_range_4 CU_range_1 LT_range_4 sport untrust...</td>\n",
       "    </tr>\n",
       "    <tr>\n",
       "      <th>...</th>\n",
       "      <td>...</td>\n",
       "    </tr>\n",
       "    <tr>\n",
       "      <th>316</th>\n",
       "      <td>CT_range_2 CU_range_1 LT_range_2 holiday untru...</td>\n",
       "    </tr>\n",
       "    <tr>\n",
       "      <th>317</th>\n",
       "      <td>CT_range_1 CU_range_1 LT_range_1 holiday trust...</td>\n",
       "    </tr>\n",
       "    <tr>\n",
       "      <th>318</th>\n",
       "      <td>CT_range_1 CU_range_1 LT_range_1 holiday trust...</td>\n",
       "    </tr>\n",
       "    <tr>\n",
       "      <th>319</th>\n",
       "      <td>CT_range_1 CU_range_1 LT_range_1 holiday trust...</td>\n",
       "    </tr>\n",
       "    <tr>\n",
       "      <th>320</th>\n",
       "      <td>CT_range_2 CU_range_1 LT_range_2 holiday untru...</td>\n",
       "    </tr>\n",
       "  </tbody>\n",
       "</table>\n",
       "<p>321 rows × 1 columns</p>\n",
       "</div>"
      ],
      "text/plain": [
       "    CT_range_4 CU_range_1 LT_range_4 sport untrustworthy\n",
       "0    CT_range_4 CU_range_1 LT_range_4 sport untrust...  \n",
       "1    CT_range_1 CU_range_4 LT_range_4 sport trustwo...  \n",
       "2    CT_range_2 CU_range_1 LT_range_4 sport trustwo...  \n",
       "3    CT_range_3 CU_range_1 LT_range_4 sport trustwo...  \n",
       "4    CT_range_4 CU_range_1 LT_range_4 sport untrust...  \n",
       "..                                                 ...  \n",
       "316  CT_range_2 CU_range_1 LT_range_2 holiday untru...  \n",
       "317  CT_range_1 CU_range_1 LT_range_1 holiday trust...  \n",
       "318  CT_range_1 CU_range_1 LT_range_1 holiday trust...  \n",
       "319  CT_range_1 CU_range_1 LT_range_1 holiday trust...  \n",
       "320  CT_range_2 CU_range_1 LT_range_2 holiday untru...  \n",
       "\n",
       "[321 rows x 1 columns]"
      ]
     },
     "execution_count": 1,
     "metadata": {},
     "output_type": "execute_result"
    }
   ],
   "source": [
    "import pandas as pd\n",
    "\n",
    "data = pd.read_csv(\"DIU_dataset.txt\")\n",
    "data"
   ]
  },
  {
   "cell_type": "code",
   "execution_count": null,
   "metadata": {},
   "outputs": [],
   "source": []
  }
 ],
 "metadata": {
  "kernelspec": {
   "display_name": "Python 3",
   "language": "python",
   "name": "python3"
  },
  "language_info": {
   "codemirror_mode": {
    "name": "ipython",
    "version": 3
   },
   "file_extension": ".py",
   "mimetype": "text/x-python",
   "name": "python",
   "nbconvert_exporter": "python",
   "pygments_lexer": "ipython3",
   "version": "3.7.4"
  }
 },
 "nbformat": 4,
 "nbformat_minor": 4
}
